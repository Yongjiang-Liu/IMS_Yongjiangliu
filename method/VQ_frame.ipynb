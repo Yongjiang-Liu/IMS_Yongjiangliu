{
 "cells": [
  {
   "cell_type": "code",
   "execution_count": 1,
   "metadata": {},
   "outputs": [],
   "source": [
    "import json\n",
    "import os"
   ]
  },
  {
   "cell_type": "code",
   "execution_count": null,
   "metadata": {},
   "outputs": [],
   "source": [
    "#Sample example for x264, x265 and libvpx encoder\n",
    "#The source video (such as CSGO.y4m) is saved in a file namely 'source-video'\n",
    "#After encoding, the results are saved in 'encode-video'\n",
    "os.system('ffmpeg -i ./source-video/CSGO.y4m -c:v libx264 -x264-params crf=15 ./encode-video/x264/CSGO_libvpx.mp4')\n",
    "os.system('ffmpeg -i ./source-video/CSGO.y4m -c:v libx265 -x265-params crf=15  ./encode-video/x265/CSGO_libvpx.mp4')\n",
    "os.system('ffmpeg -i ./source-video/CSGO.y4m -c:v libvpx-vp9 -crf 14 -profile 0 ./encode-video/libvpx/CSGO_libvpx.mp4')"
   ]
  },
  {
   "cell_type": "code",
   "execution_count": 32,
   "metadata": {},
   "outputs": [
    {
     "data": {
      "text/plain": [
       "0"
      ]
     },
     "execution_count": 32,
     "metadata": {},
     "output_type": "execute_result"
    }
   ],
   "source": [
    "#A original video has 50 seconds which require nearly 2 hours on encoding.\n",
    "#This process aims to cut the original video to 10 seconds in order to decrease the encoding time\n",
    "#Output zero means the command is executed successfully.\n",
    "os.system('ffmpeg -ss 0:0:0 -t 0:0:10 -i DOTA2.y4m -acodec copy DOTA2_output.y4m')"
   ]
  },
  {
   "cell_type": "code",
   "execution_count": 2,
   "metadata": {},
   "outputs": [],
   "source": [
    "#This is the encoding process\n",
    "#This section executes the VQ model\n",
    "#The paramters of VQ model for three encoders are set. \n",
    "def encoder(source_video_file,codec_model,qp):\n",
    "    #Get file name and format name\n",
    "    filename,fileext = os.path.splitext(source_video_file)\n",
    "    #example./ffmpeg -i ./source-video/bus_cif.y4m -c:v libx264 ./encode-video/libx264/bus_cif_libx264.mp4\n",
    "    if codec_model=='libx264':\n",
    "        command = 'ffmpeg -i ./source-video/' + source_video_file + ' -c:v libx264 ' + '-x264-params crf='+qp+':profile=High:preset=medium:keyint=4:min-keyint=4:me=2:ref=4:frame-threads=1:subme=5:aq-mode=1:aq-strength=1.0:psy-rd=1.0'+' ./encode-video/'+ codec_model + '/' + filename + '_' +codec_model+ '_qp'+qp+'.mp4'\n",
    "    if codec_model=='libx265':\n",
    "        command = 'ffmpeg -i ./source-video/' + source_video_file + ' -c:v libx265 ' + '-x265-params crf='+qp+':profile=main:preset=medium:keyint=4:min-keyint=4:me=2:ref=4:subme=5:pools=none:aq-mode=2:aq-strength=1.0:psy-rd=2.0:psy-rdoq=1.0'+ ' ./encode-video/'+ codec_model + '/' + filename + '_' +codec_model+'_qp'+qp+ '.mp4'\n",
    "    if codec_model=='libvpx':\n",
    "        #command = 'ffmpeg -i ./source-video/' + source_video_file + ' -c:v libvpx-vp9 '+ '-crf 14 -profile 0 -deadline best -end-usage vbr -kf-max-dist 4s -kf-min-dist 4s -lag-in-frames 16 -auto-alt-ref 1 -arnr-maxframes 7 -arnr-strength 5 -arnr-type 3 -static-thresh 0 -frame-parallel 0 -threads 1 -tile-columns 0 -tune psnr -aq-mode 0' + ' ./encode-video/'+ codec_model + '/' + filename + '_' +codec_model+ '.mp4'\n",
    "        command = 'ffmpeg -i ./source-video/' + source_video_file + ' -c:v libvpx-vp9 '+ '-crf '+qp+' -profile 0 -deadline realtime -lag-in-frames 16 -auto-alt-ref 1 -arnr-maxframes 7 -arnr-strength 5 -arnr-type 3 -static-thresh 0 -frame-parallel 0 -threads 1 -tile-columns 0 -aq-mode 1' + ' ./encode-video/'+ codec_model + '/' + filename + '_' +codec_model+ '_qp'+qp+'.mp4'\n",
    "    #print(command)\n",
    "    os.system(command)"
   ]
  },
  {
   "cell_type": "code",
   "execution_count": 50,
   "metadata": {},
   "outputs": [],
   "source": [
    "#Encode the uncompressed video source through x264,x265 and libvpx\n",
    "source_video = os.listdir('./source-video')\n",
    "# Set the source file, encoder type and QP values\n",
    "#QP(x264)=QP(x265)={15,19,23,27,3,35,39,43}\n",
    "#QP(libvpx-VP9)={14,21,28,35,42,49,56,63}\n",
    "#Using another for loop to input the QP values can simplify the manual process.\n",
    "#However, it can take more than 15 hours for each execution.\n",
    "#Therefore, it is recommand to input the QP values manually. \n",
    "for file in source_video:\n",
    "    encoder(file,'libx264','43')\n",
    "    encoder(file,'libx265','43')\n",
    "    encoder(file,'libvpx','63')"
   ]
  },
  {
   "cell_type": "code",
   "execution_count": 4,
   "metadata": {},
   "outputs": [],
   "source": [
    "# Get the json file of VMAF evaluation standard and bit-rate\n",
    "def getVmaf(source_video_file, codec_model,qp):\n",
    "    filename,fileext = os.path.splitext(source_video_file)\n",
    "    #Get vmaf evaluation standard\n",
    "    #./ffmpeg -i ./encode-video/libx264/bus_cif_libx264.mp4 -i ./source-video/bus_cif.y4m -lavfi libvmaf=\"model_path=./model/vmaf_v0.6.1.pkl: psnr=1:ms_ssim=1:ssim=1:log_fmt=json:log_path= ./vmaf/bus_cif_libx264_vmaf.json\" -f null -\n",
    "    command_vmaf = 'ffmpeg -i ./encode-video/'+ codec_model +'/'+ filename + '_' + codec_model +'_qp'+qp+'.mp4' +' -i ./source-video/' + source_video_file + ' -lavfi libvmaf=\"model_path=./model/vmaf_v0.6.1.pkl: psnr=1:ms_ssim=1:ssim=1:log_fmt=json:log_path= ./vmaf/' + filename + '_' + codec_model + '_qp'+qp+'_vmaf.json\" -f null -'\n",
    "    \n",
    "    #Get the format of the video to further get information such as bit-rate\n",
    "    #./ffprobe -v quiet -print_format json -show_format ./encode-video/libx264/bus_cif_libx264.mp4 >> ./video-format/bus_cif_libx264_format.json\n",
    "    command_format = 'ffprobe -v quiet -print_format json -show_format ./encode-video/' + codec_model + '/' + filename + '_' + codec_model +'_qp'+qp+ '.mp4 >> ./video-format/'+ filename + '_' + codec_model +'_qp'+qp+'_format.json'\n",
    "    \n",
    "    #print(command_vmaf)\n",
    "    #print(command_format)\n",
    "    os.system(command_vmaf)\n",
    "    os.system(command_format)\n",
    "    "
   ]
  },
  {
   "cell_type": "code",
   "execution_count": 51,
   "metadata": {},
   "outputs": [],
   "source": [
    "# Set the source file, encoder type and QP values\n",
    "#QP(x264)=QP(x265)={15,19,23,27,3,35,39,43}\n",
    "#QP(libvpx-VP9)={14,21,28,35,42,49,56,63}\n",
    "for file in source_video:\n",
    "    getVmaf(file,'libx264','43')\n",
    "    getVmaf(file,'libx265','43')\n",
    "    getVmaf(file,'libvpx','63')"
   ]
  },
  {
   "cell_type": "code",
   "execution_count": null,
   "metadata": {},
   "outputs": [],
   "source": [
    "#The following steps aim to get the information of VMAF package\n",
    "#Include VMAF, PSNR,SSIM,MS-SSIM and bitrate.\n",
    "#Use Bjøntegaard-Delta Rate method to evaluate these values in next part. "
   ]
  },
  {
   "cell_type": "code",
   "execution_count": 7,
   "metadata": {},
   "outputs": [
    {
     "name": "stdout",
     "output_type": "stream",
     "text": [
      "97.4751253415694\n",
      "28019940\n"
     ]
    }
   ],
   "source": [
    "#x264\n",
    "with open(\"./vmaf/CSGO/CSGO_output_libx264_qp15_vmaf.json\", 'r') as f:\n",
    "    temp = json.loads(f.read())\n",
    "    print(temp['VMAF score'])\n",
    "    print(temp['PSNR score'])\n",
    "    print(temp['SSIM score'])\n",
    "    print(temp['MS-SSIM score']) \n",
    "with open(\"./video-format/CSGO/CSGO_output_libx264_qp15_format.json\", 'r') as f:\n",
    "    test = json.loads(f.read())\n",
    "    print(test['format']['bit_rate'])"
   ]
  },
  {
   "cell_type": "code",
   "execution_count": 8,
   "metadata": {},
   "outputs": [
    {
     "name": "stdout",
     "output_type": "stream",
     "text": [
      "95.55946840553997\n",
      "17007813\n"
     ]
    }
   ],
   "source": [
    "#x265\n",
    "with open(\"./vmaf/CSGO/CSGO_output_libx265_qp15_vmaf.json\", 'r') as f:\n",
    "    temp = json.loads(f.read())\n",
    "    print(temp['VMAF score'])\n",
    "    print(temp['PSNR score'])\n",
    "    print(temp['SSIM score'])\n",
    "    print(temp['MS-SSIM score']) \n",
    "with open(\"./video-format/CSGO/CSGO_output_libx265_qp15_format.json\", 'r') as f:\n",
    "    test = json.loads(f.read())\n",
    "    print(test['format']['bit_rate'])"
   ]
  },
  {
   "cell_type": "code",
   "execution_count": 43,
   "metadata": {},
   "outputs": [
    {
     "name": "stdout",
     "output_type": "stream",
     "text": [
      "91.97011480079937\n",
      "4932790\n"
     ]
    }
   ],
   "source": [
    "#VP9\n",
    "with open(\"./vmaf/CSGO/CSGO_output_libvpx_qp14_vmaf.json\", 'r') as f:\n",
    "    temp = json.loads(f.read())\n",
    "    print(temp['VMAF score'])\n",
    "    print(temp['PSNR score'])\n",
    "    print(temp['SSIM score'])\n",
    "    print(temp['MS-SSIM score']) \n",
    "\n",
    "with open(\"./video-format/CSGO/CSGO_output_libvpx_qp14_format.json\", 'r') as f:\n",
    "    test = json.loads(f.read())\n",
    "    print(test['format']['bit_rate'])"
   ]
  }
 ],
 "metadata": {
  "kernelspec": {
   "display_name": "Python 3",
   "language": "python",
   "name": "python3"
  },
  "language_info": {
   "codemirror_mode": {
    "name": "ipython",
    "version": 3
   },
   "file_extension": ".py",
   "mimetype": "text/x-python",
   "name": "python",
   "nbconvert_exporter": "python",
   "pygments_lexer": "ipython3",
   "version": "3.7.4"
  }
 },
 "nbformat": 4,
 "nbformat_minor": 2
}
